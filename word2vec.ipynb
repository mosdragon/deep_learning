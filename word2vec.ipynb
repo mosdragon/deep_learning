{
 "cells": [
  {
   "cell_type": "markdown",
   "metadata": {},
   "source": [
    "# Implementing $word2vec$ using PyTorch\n",
    "\n",
    "\n",
    "Resources used:\n",
    "1. [Word2Vec Pytorch](https://towardsdatascience.com/implementing-word2vec-in-pytorch-skip-gram-model-e6bae040d2fb)\n",
    "2. [Word2Vec using TensorFlow](https://towardsdatascience.com/learn-word2vec-by-implementing-it-in-tensorflow-45641adaf2ac)\n",
    "3. [Training a Classifier in Pytorch](https://pytorch.org/tutorials/beginner/blitz/cifar10_tutorial.html)"
   ]
  },
  {
   "cell_type": "code",
   "execution_count": 1,
   "metadata": {},
   "outputs": [],
   "source": [
    "import torch\n",
    "import torch.autograd as autograd\n",
    "import torch.nn as nn\n",
    "import torch.nn.functional as F\n",
    "import torch.optim as optim\n",
    "\n",
    "import numpy as np\n",
    "import copy"
   ]
  },
  {
   "cell_type": "code",
   "execution_count": 2,
   "metadata": {},
   "outputs": [
    {
     "data": {
      "text/plain": [
       "<torch._C.Generator at 0x10cbcaf30>"
      ]
     },
     "execution_count": 2,
     "metadata": {},
     "output_type": "execute_result"
    }
   ],
   "source": [
    "seed = 42\n",
    "torch.manual_seed(seed)"
   ]
  },
  {
   "cell_type": "code",
   "execution_count": 3,
   "metadata": {},
   "outputs": [],
   "source": [
    "# Example corpus provided by resource 1\n",
    "corpus = [\n",
    "    'he is a king',\n",
    "    'she is a queen',\n",
    "    'he is a man',\n",
    "    'she is a woman',\n",
    "    'warsaw is poland capital',\n",
    "    'berlin is germany capital',\n",
    "    'paris is france capital',\n",
    "]"
   ]
  },
  {
   "cell_type": "code",
   "execution_count": 4,
   "metadata": {},
   "outputs": [],
   "source": [
    "def preproc_line(line):\n",
    "    \"\"\"\n",
    "    This is how each entry of the corpus will be preprocessed.\n",
    "    - Remove whitespaces and newlines\n",
    "    - Lowercase everything\n",
    "    - Apostrophes replaced with spaces\n",
    "    - All other punctuation replaced with spaces\n",
    "    \"\"\"\n",
    "    line = line.strip().lower()\n",
    "    \n",
    "#     Replace apostrophes with empty spaces to handle words like can't and don't\n",
    "    line = line.replace(\"'\", \"\")\n",
    "    \n",
    "    punctuations = [\",\", \"-\", \"_\", \".\", \"!\", '\"',\n",
    "                   \"[\", \"]\", \";\", \":\", \"(\", \")\", \n",
    "                    \"+\", \"{\", \"}\", \"?\", \"\\/\", \"\\\\\"\n",
    "                   ]\n",
    "\n",
    "    for punc in punctuations:\n",
    "#         Replace all punctuations with spaces.\n",
    "        line = line.replace(punc, \" \")\n",
    "    \n",
    "#     Split line by spaces\n",
    "    words = line.split()\n",
    "#     Special case: Remove empty strings\n",
    "    words = [w for w in words if w != \"\"]\n",
    "    \n",
    "    return words\n",
    "\n",
    "\n",
    "def preproc_corpus(corpus):\n",
    "    \"\"\"\n",
    "    Calls preproc_line on each entry in the corpus\n",
    "    \"\"\"\n",
    "    tokenized_lines = [preproc_line(line) for line in corpus]\n",
    "    return tokenized_lines\n"
   ]
  },
  {
   "cell_type": "code",
   "execution_count": 5,
   "metadata": {},
   "outputs": [],
   "source": [
    "tokenized_corpus = preproc_corpus(corpus)"
   ]
  },
  {
   "cell_type": "code",
   "execution_count": 6,
   "metadata": {},
   "outputs": [
    {
     "data": {
      "text/plain": [
       "[['he', 'is', 'a', 'king'],\n",
       " ['she', 'is', 'a', 'queen'],\n",
       " ['he', 'is', 'a', 'man'],\n",
       " ['she', 'is', 'a', 'woman'],\n",
       " ['warsaw', 'is', 'poland', 'capital'],\n",
       " ['berlin', 'is', 'germany', 'capital'],\n",
       " ['paris', 'is', 'france', 'capital']]"
      ]
     },
     "execution_count": 6,
     "metadata": {},
     "output_type": "execute_result"
    }
   ],
   "source": [
    "# Sanity check\n",
    "tokenized_corpus"
   ]
  },
  {
   "cell_type": "code",
   "execution_count": 7,
   "metadata": {},
   "outputs": [],
   "source": [
    "def create_vocab(tokenized_corpus):\n",
    "    \"\"\"\n",
    "    Create a vocabulary from the tokenized corpus.\n",
    "    \n",
    "    Create mappings: word_to_idx & idx_to_word\n",
    "    \"\"\"\n",
    "    # Create a vocab of all the unique words\n",
    "    vocab = set()\n",
    "\n",
    "    for sentence in tokenized_corpus:\n",
    "    #     Update the vocab with words from sentence\n",
    "        vocab.update(sentence)\n",
    "\n",
    "    word_to_idx = {w: i for i, w in enumerate(vocab)}\n",
    "    idx_to_word = {i: w for w, i in word_to_idx.items()}\n",
    "    \n",
    "    return (vocab, word_to_idx, idx_to_word)"
   ]
  },
  {
   "cell_type": "code",
   "execution_count": 8,
   "metadata": {},
   "outputs": [],
   "source": [
    "(vocab, word_to_idx, idx_to_word) = create_vocab(tokenized_corpus)"
   ]
  },
  {
   "cell_type": "code",
   "execution_count": 9,
   "metadata": {},
   "outputs": [
    {
     "data": {
      "text/plain": [
       "15"
      ]
     },
     "execution_count": 9,
     "metadata": {},
     "output_type": "execute_result"
    }
   ],
   "source": [
    "vsize = len(vocab)\n",
    "vsize"
   ]
  },
  {
   "cell_type": "code",
   "execution_count": 10,
   "metadata": {},
   "outputs": [
    {
     "data": {
      "text/plain": [
       "{0: 'a',\n",
       " 1: 'berlin',\n",
       " 2: 'she',\n",
       " 3: 'germany',\n",
       " 4: 'woman',\n",
       " 5: 'paris',\n",
       " 6: 'warsaw',\n",
       " 7: 'is',\n",
       " 8: 'he',\n",
       " 9: 'queen',\n",
       " 10: 'man',\n",
       " 11: 'king',\n",
       " 12: 'poland',\n",
       " 13: 'france',\n",
       " 14: 'capital'}"
      ]
     },
     "execution_count": 10,
     "metadata": {},
     "output_type": "execute_result"
    }
   ],
   "source": [
    "# Sanity check\n",
    "idx_to_word"
   ]
  },
  {
   "cell_type": "code",
   "execution_count": 11,
   "metadata": {},
   "outputs": [],
   "source": [
    "def skipgram_model(tokenized_corpus, vocab, vsize, word_to_idx, idx_to_word, window_size=2):\n",
    "    \"\"\"\n",
    "    Returns a list of pairs of the form (center, context),\n",
    "    where the context is within the window size for the given word.\n",
    "    \n",
    "    Each item in the tuple is the index for that word.\n",
    "    \"\"\"\n",
    "    pairs = []\n",
    "    \n",
    "    for sentence in tokenized_corpus:\n",
    "#         Replace words with their respective indices.\n",
    "        sentence = [word_to_idx[w] for w in sentence]\n",
    "        sen_len = len(sentence)\n",
    "    \n",
    "#         Treat each word in sentence as the center.\n",
    "        for center_pos, center in enumerate(sentence):\n",
    "#             Slide over the window.\n",
    "            for slide in range(-window_size, window_size + 1):\n",
    "                if slide == 0:\n",
    "                    continue\n",
    "\n",
    "#                 This is the position of the context word to consider\n",
    "                context_pos = center_pos + slide\n",
    "\n",
    "#                 If the context position is out of bounds, ignore\n",
    "                if context_pos < 0 or context_pos >= sen_len:\n",
    "                    continue\n",
    "            \n",
    "                context = sentence[context_pos]\n",
    "                pairs.append((center, context))\n",
    "                \n",
    "#     Return the pairs as an np array\n",
    "    return np.array(pairs)"
   ]
  },
  {
   "cell_type": "code",
   "execution_count": 12,
   "metadata": {},
   "outputs": [],
   "source": [
    "def onehot_encode(vsize, word_idx):\n",
    "    \"\"\"\n",
    "    Given a word_idx, this function will return a Tensor of length\n",
    "    vsize with a 1.0 placed in the corresponding word_idx\n",
    "    \"\"\"\n",
    "    onehot = torch.zeros(vsize).float()\n",
    "    onehot[word_idx] = 1.0\n",
    "    \n",
    "    return onehot"
   ]
  },
  {
   "cell_type": "code",
   "execution_count": 13,
   "metadata": {},
   "outputs": [],
   "source": [
    "# Prepare our training data\n",
    "pairs = skipgram_model(tokenized_corpus, vocab, vsize, word_to_idx, idx_to_word, window_size=2)\n",
    "onehot_pairs = [(onehot_encode(vsize, x), onehot_encode(vsize, y)) for x, y in pairs]"
   ]
  },
  {
   "cell_type": "code",
   "execution_count": 14,
   "metadata": {},
   "outputs": [
    {
     "name": "stdout",
     "output_type": "stream",
     "text": [
      "(tensor([0., 0., 0., 0., 0., 0., 0., 0., 1., 0., 0., 0., 0., 0., 0.]), tensor([0., 0., 0., 0., 0., 0., 0., 1., 0., 0., 0., 0., 0., 0., 0.]))\n"
     ]
    }
   ],
   "source": [
    "print(onehot_pairs[0])"
   ]
  },
  {
   "cell_type": "code",
   "execution_count": 15,
   "metadata": {},
   "outputs": [],
   "source": [
    "# Define our Word2VecNetwork Class Here\n",
    "class SkipgramModeler(nn.Module):\n",
    "    def __init__(self, vocab_size=15, embedding_dim=5):\n",
    "        super(SkipgramModeler, self).__init__()\n",
    "        self.w1 = nn.Linear(vocab_size, embedding_dim)\n",
    "        self.w2 = nn.Linear(embedding_dim, vocab_size)\n",
    "        \n",
    "    def forward(self, x):\n",
    "        out1 = self.w1(x)\n",
    "        out2 = self.w2(out1)\n",
    "#         return out2\n",
    "        \n",
    "        log_softmax = F.softmax(out2, dim=0)\n",
    "        return log_softmax"
   ]
  },
  {
   "cell_type": "code",
   "execution_count": 16,
   "metadata": {},
   "outputs": [],
   "source": [
    "def train_model(onehot_pairs, vsize, embedding_dim=5, epochs=5, learning_rate=1e-3, opt_alg=optim.SGD, criterion=nn.MSELoss()):\n",
    "    torch.manual_seed(seed)\n",
    "    model = SkipgramModeler(vocab_size=vsize, embedding_dim=embedding_dim)\n",
    "    optimizer = opt_alg(model.parameters(), lr=learning_rate)\n",
    "    \n",
    "    for epoch in range(epochs):\n",
    "        loss = 0.0\n",
    "        for i, onehot_pair in enumerate(onehot_pairs, 0):\n",
    "            x_i, y_i = onehot_pair\n",
    "\n",
    "            # Zero the parameter gradients\n",
    "            optimizer.zero_grad()\n",
    "\n",
    "            # forward + backward + optimize\n",
    "            outputs = model(x_i)\n",
    "            loss = criterion(outputs, y_i)\n",
    "            loss.backward()\n",
    "            optimizer.step()\n",
    "\n",
    "            # Print statistics\n",
    "            loss += loss.item()\n",
    "#         Print the loss for this epoch\n",
    "        if (epoch + 1) % 5 == 0:\n",
    "            print('Epoch: {} loss: {:.3f}'.format(epoch + 1, loss))\n",
    "    \n",
    "    return model\n",
    "    "
   ]
  },
  {
   "cell_type": "code",
   "execution_count": 17,
   "metadata": {},
   "outputs": [],
   "source": [
    "# For Evaluatuion: use cosine similarity metric\n",
    "cos = nn.CosineSimilarity()\n",
    "\n",
    "def argmax_cos(estimate):\n",
    "    cos = nn.CosineSimilarity()\n",
    "    costs = [(word, cos(estimate, enc)) for word, enc in encodings.items()]\n",
    "    item = max(costs, key=lambda x: x[1])\n",
    "    return item"
   ]
  },
  {
   "cell_type": "code",
   "execution_count": 18,
   "metadata": {},
   "outputs": [
    {
     "name": "stdout",
     "output_type": "stream",
     "text": [
      "Epoch: 5 loss: 0.126\n",
      "Epoch: 10 loss: 0.126\n",
      "Epoch: 15 loss: 0.126\n",
      "Epoch: 20 loss: 0.126\n",
      "Epoch: 25 loss: 0.126\n",
      "Epoch: 30 loss: 0.126\n",
      "Epoch: 35 loss: 0.126\n",
      "Epoch: 40 loss: 0.126\n",
      "Epoch: 45 loss: 0.126\n",
      "Epoch: 50 loss: 0.126\n",
      "=========================\n",
      "Similarity <queen> to <king - man + woman>\n",
      "tensor([0.6636], grad_fn=<DivBackward1>)\n",
      "('woman', tensor([0.8293], grad_fn=<DivBackward1>))\n",
      "=========================\n",
      "Similarity <paris> to <berlin - germany + france>\n",
      "tensor([-0.3340], grad_fn=<DivBackward1>)\n",
      "('he', tensor([0.6638], grad_fn=<DivBackward1>))\n"
     ]
    }
   ],
   "source": [
    "# Training\n",
    "model = train_model(onehot_pairs, vsize, embedding_dim=5, epochs=50, learning_rate=1e-3, opt_alg=optim.SGD)\n",
    "\n",
    "# Evaluation\n",
    "\n",
    "# Take the encoder from the model out\n",
    "encoder = copy.deepcopy(model.w1)\n",
    "\n",
    "# Create encodings of the words to their respective vectors\n",
    "encodings = {w: encoder(onehot_encode(vsize, idx)) for w, idx in word_to_idx.items()}\n",
    "# Reshape those encodings to be of dimension (embedding_dim, -1)\n",
    "encodings = {w: e.reshape(1, -1) for w, e in encodings.items()}\n",
    "\n",
    "\n",
    "print(\"=========================\")\n",
    "queen = encodings[\"queen\"]\n",
    "print(\"Similarity <queen> to <king - man + woman>\")\n",
    "print(cos(queen, encodings[\"king\"] - encodings[\"man\"] + encodings[\"woman\"]))\n",
    "print(argmax_cos(encodings[\"king\"] - encodings[\"man\"] + encodings[\"woman\"]))\n",
    "\n",
    "print(\"=========================\")\n",
    "paris = encodings[\"paris\"]\n",
    "print(\"Similarity <paris> to <berlin - germany + france>\")\n",
    "print(cos(paris, encodings[\"berlin\"] - encodings[\"germany\"] + encodings[\"france\"]))\n",
    "print(argmax_cos(encodings[\"berlin\"] - encodings[\"germany\"] + encodings[\"france\"]))"
   ]
  },
  {
   "cell_type": "code",
   "execution_count": 19,
   "metadata": {},
   "outputs": [
    {
     "name": "stdout",
     "output_type": "stream",
     "text": [
      "Epoch: 5 loss: 0.127\n",
      "Epoch: 10 loss: 0.131\n",
      "Epoch: 15 loss: 0.137\n",
      "Epoch: 20 loss: 0.142\n",
      "Epoch: 25 loss: 0.146\n",
      "Epoch: 30 loss: 0.148\n",
      "Epoch: 35 loss: 0.150\n",
      "Epoch: 40 loss: 0.152\n",
      "Epoch: 45 loss: 0.153\n",
      "Epoch: 50 loss: 0.155\n",
      "=========================\n",
      "Similarity <queen> to <king - man + woman>\n",
      "tensor([0.9810], grad_fn=<DivBackward1>)\n",
      "('woman', tensor([0.9935], grad_fn=<DivBackward1>))\n",
      "=========================\n",
      "Similarity <paris> to <berlin - germany + france>\n",
      "tensor([0.8325], grad_fn=<DivBackward1>)\n",
      "('a', tensor([0.9247], grad_fn=<DivBackward1>))\n"
     ]
    }
   ],
   "source": [
    "# Try ADAM\n",
    "# Training\n",
    "model = train_model(onehot_pairs, vsize, embedding_dim=5, epochs=50, learning_rate=1e-3, opt_alg=optim.Adam)\n",
    "\n",
    "# Evaluation\n",
    "\n",
    "# Take the encoder from the model out\n",
    "encoder = copy.deepcopy(model.w1)\n",
    "\n",
    "# Create encodings of the words to their respective vectors\n",
    "encodings = {w: encoder(onehot_encode(vsize, idx)) for w, idx in word_to_idx.items()}\n",
    "# Reshape those encodings to be of dimension (embedding_dim, -1)\n",
    "encodings = {w: e.reshape(1, -1) for w, e in encodings.items()}\n",
    "\n",
    "\n",
    "print(\"=========================\")\n",
    "queen = encodings[\"queen\"]\n",
    "print(\"Similarity <queen> to <king - man + woman>\")\n",
    "print(cos(queen, encodings[\"king\"] - encodings[\"man\"] + encodings[\"woman\"]))\n",
    "print(argmax_cos(encodings[\"king\"] - encodings[\"man\"] + encodings[\"woman\"]))\n",
    "\n",
    "print(\"=========================\")\n",
    "paris = encodings[\"paris\"]\n",
    "print(\"Similarity <paris> to <berlin - germany + france>\")\n",
    "print(cos(paris, encodings[\"berlin\"] - encodings[\"germany\"] + encodings[\"france\"]))\n",
    "print(argmax_cos(encodings[\"berlin\"] - encodings[\"germany\"] + encodings[\"france\"]))"
   ]
  },
  {
   "cell_type": "markdown",
   "metadata": {},
   "source": [
    "## Batching\n",
    "Let's try training using batching, which is how the guides we're following has used it."
   ]
  },
  {
   "cell_type": "code",
   "execution_count": 20,
   "metadata": {},
   "outputs": [
    {
     "data": {
      "text/plain": [
       "70"
      ]
     },
     "execution_count": 20,
     "metadata": {},
     "output_type": "execute_result"
    }
   ],
   "source": [
    "len(pairs)"
   ]
  },
  {
   "cell_type": "code",
   "execution_count": 21,
   "metadata": {},
   "outputs": [],
   "source": [
    "from torch.utils.data import DataLoader\n",
    "\n",
    "# Batches up our pairs of data\n",
    "trainloader = DataLoader(onehot_pairs, batch_size=10, shuffle=True)"
   ]
  },
  {
   "cell_type": "code",
   "execution_count": 22,
   "metadata": {},
   "outputs": [],
   "source": [
    "def train_model_batches(trainloader, vsize, embedding_dim=5, epochs=50, learning_rate=1e-3, opt_alg=optim.SGD, criterion=nn.MSELoss()):\n",
    "    torch.manual_seed(seed)\n",
    "    model = SkipgramModeler(vocab_size=vsize, embedding_dim=embedding_dim)\n",
    "    optimizer = opt_alg(model.parameters(), lr=learning_rate)\n",
    "    \n",
    "    for epoch in range(epochs):\n",
    "        loss = 0.0\n",
    "        for batch_i, batch in enumerate(trainloader):\n",
    "            \n",
    "            X, y = batch\n",
    "\n",
    "            # Zero the parameter gradients\n",
    "            optimizer.zero_grad()\n",
    "\n",
    "            # forward + backward + optimize\n",
    "            outputs = model(X)\n",
    "            loss = criterion(outputs, y)\n",
    "            loss.backward()\n",
    "            optimizer.step()\n",
    "\n",
    "            # Print statistics\n",
    "            loss += loss.item()\n",
    "#         Print the loss for this epoch\n",
    "        if (epoch + 1) % 5 == 0:\n",
    "            print('Epoch: {} loss: {:.3f}'.format(epoch + 1, loss))\n",
    "    \n",
    "    return model\n",
    "    "
   ]
  },
  {
   "cell_type": "code",
   "execution_count": 23,
   "metadata": {},
   "outputs": [
    {
     "name": "stdout",
     "output_type": "stream",
     "text": [
      "Epoch: 5 loss: 0.126\n",
      "Epoch: 10 loss: 0.127\n",
      "Epoch: 15 loss: 0.127\n",
      "Epoch: 20 loss: 0.127\n",
      "Epoch: 25 loss: 0.127\n",
      "Epoch: 30 loss: 0.126\n",
      "Epoch: 35 loss: 0.127\n",
      "Epoch: 40 loss: 0.127\n",
      "Epoch: 45 loss: 0.127\n",
      "Epoch: 50 loss: 0.127\n",
      "=========================\n",
      "Similarity <queen> to <king - man + woman>\n",
      "tensor([0.6627], grad_fn=<DivBackward1>)\n",
      "('woman', tensor([0.8278], grad_fn=<DivBackward1>))\n",
      "=========================\n",
      "Similarity <paris> to <berlin - germany + france>\n",
      "tensor([-0.3328], grad_fn=<DivBackward1>)\n",
      "('he', tensor([0.6650], grad_fn=<DivBackward1>))\n"
     ]
    }
   ],
   "source": [
    "# Training\n",
    "model = train_model_batches(trainloader, vsize, embedding_dim=5, epochs=50, learning_rate=1e-3, opt_alg=optim.SGD)\n",
    "\n",
    "# Evaluation\n",
    "\n",
    "# Take the encoder from the model out\n",
    "encoder = copy.deepcopy(model.w1)\n",
    "\n",
    "# Create encodings of the words to their respective vectors\n",
    "encodings = {w: encoder(onehot_encode(vsize, idx)) for w, idx in word_to_idx.items()}\n",
    "# Reshape those encodings to be of dimension (embedding_dim, -1)\n",
    "encodings = {w: e.reshape(1, -1) for w, e in encodings.items()}\n",
    "\n",
    "\n",
    "print(\"=========================\")\n",
    "queen = encodings[\"queen\"]\n",
    "print(\"Similarity <queen> to <king - man + woman>\")\n",
    "print(cos(queen, encodings[\"king\"] - encodings[\"man\"] + encodings[\"woman\"]))\n",
    "print(argmax_cos(encodings[\"king\"] - encodings[\"man\"] + encodings[\"woman\"]))\n",
    "\n",
    "print(\"=========================\")\n",
    "paris = encodings[\"paris\"]\n",
    "print(\"Similarity <paris> to <berlin - germany + france>\")\n",
    "print(cos(paris, encodings[\"berlin\"] - encodings[\"germany\"] + encodings[\"france\"]))\n",
    "print(argmax_cos(encodings[\"berlin\"] - encodings[\"germany\"] + encodings[\"france\"]))"
   ]
  },
  {
   "cell_type": "code",
   "execution_count": 24,
   "metadata": {},
   "outputs": [
    {
     "name": "stdout",
     "output_type": "stream",
     "text": [
      "Epoch: 5 loss: 0.126\n",
      "Epoch: 10 loss: 0.127\n",
      "Epoch: 15 loss: 0.126\n",
      "Epoch: 20 loss: 0.126\n",
      "Epoch: 25 loss: 0.126\n",
      "Epoch: 30 loss: 0.124\n",
      "Epoch: 35 loss: 0.125\n",
      "Epoch: 40 loss: 0.126\n",
      "Epoch: 45 loss: 0.124\n",
      "Epoch: 50 loss: 0.125\n",
      "=========================\n",
      "Similarity <queen> to <king - man + woman>\n",
      "tensor([0.8271], grad_fn=<DivBackward1>)\n",
      "('woman', tensor([0.9211], grad_fn=<DivBackward1>))\n",
      "=========================\n",
      "Similarity <paris> to <berlin - germany + france>\n",
      "tensor([0.0723], grad_fn=<DivBackward1>)\n",
      "('berlin', tensor([0.6976], grad_fn=<DivBackward1>))\n"
     ]
    }
   ],
   "source": [
    "# Training\n",
    "model = train_model_batches(trainloader, vsize, embedding_dim=5, epochs=50, learning_rate=1e-3, opt_alg=optim.Adam)\n",
    "\n",
    "# Evaluation\n",
    "\n",
    "# Take the encoder from the model out\n",
    "encoder = copy.deepcopy(model.w1)\n",
    "\n",
    "# Create encodings of the words to their respective vectors\n",
    "encodings = {w: encoder(onehot_encode(vsize, idx)) for w, idx in word_to_idx.items()}\n",
    "# Reshape those encodings to be of dimension (embedding_dim, -1)\n",
    "encodings = {w: e.reshape(1, -1) for w, e in encodings.items()}\n",
    "\n",
    "\n",
    "print(\"=========================\")\n",
    "queen = encodings[\"queen\"]\n",
    "print(\"Similarity <queen> to <king - man + woman>\")\n",
    "print(cos(queen, encodings[\"king\"] - encodings[\"man\"] + encodings[\"woman\"]))\n",
    "print(argmax_cos(encodings[\"king\"] - encodings[\"man\"] + encodings[\"woman\"]))\n",
    "\n",
    "print(\"=========================\")\n",
    "paris = encodings[\"paris\"]\n",
    "print(\"Similarity <paris> to <berlin - germany + france>\")\n",
    "print(cos(paris, encodings[\"berlin\"] - encodings[\"germany\"] + encodings[\"france\"]))\n",
    "print(argmax_cos(encodings[\"berlin\"] - encodings[\"germany\"] + encodings[\"france\"]))"
   ]
  },
  {
   "cell_type": "markdown",
   "metadata": {},
   "source": [
    "## Let's Try a Real Dataset"
   ]
  },
  {
   "cell_type": "code",
   "execution_count": 25,
   "metadata": {},
   "outputs": [],
   "source": [
    "dataset = \"datasets/english.csv\"\n",
    "\n",
    "with open(dataset, \"r\") as f:\n",
    "    lines = f.readlines()\n",
    "    \n",
    "# First line is a header, ignore it\n",
    "data = lines[1:]\n",
    "\n",
    "\n",
    "# Keep only the first 2k lines\n",
    "data = data[:2000]"
   ]
  },
  {
   "cell_type": "code",
   "execution_count": 26,
   "metadata": {},
   "outputs": [
    {
     "name": "stdout",
     "output_type": "stream",
     "text": [
      "['10', 'both', 'paul', 'and', 'james', 'speak', 'of', 'the', 'works', 'of', 'love', 'that', 'one', 'must', 'add', 'to', 'his', 'faith', 'in', 'order', 'to', 'be', 'justified']\n"
     ]
    }
   ],
   "source": [
    "tokenized_corpus = preproc_corpus(data)\n",
    "\n",
    "# Sanity check\n",
    "print(tokenized_corpus[0])"
   ]
  },
  {
   "cell_type": "code",
   "execution_count": 27,
   "metadata": {},
   "outputs": [],
   "source": [
    "(vocab, word_to_idx, idx_to_word) = create_vocab(tokenized_corpus)"
   ]
  },
  {
   "cell_type": "code",
   "execution_count": 28,
   "metadata": {},
   "outputs": [
    {
     "data": {
      "text/plain": [
       "10607"
      ]
     },
     "execution_count": 28,
     "metadata": {},
     "output_type": "execute_result"
    }
   ],
   "source": [
    "vsize = len(vocab)\n",
    "vsize"
   ]
  },
  {
   "cell_type": "raw",
   "metadata": {},
   "source": [
    "# Let's count the frequency of each word\n",
    "from collections import Counter\n",
    "\n",
    "count = Counter()\n",
    "\n",
    "for sentence in tokenized_corpus:\n",
    "    count.update(sentence)\n",
    "\n",
    "count"
   ]
  },
  {
   "cell_type": "raw",
   "metadata": {},
   "source": [
    "n = 2000\n",
    "top_n = count.most_common(n)\n",
    "\n",
    "top_n"
   ]
  },
  {
   "cell_type": "code",
   "execution_count": 29,
   "metadata": {},
   "outputs": [
    {
     "name": "stdout",
     "output_type": "stream",
     "text": [
      "CPU times: user 9.48 s, sys: 6 s, total: 15.5 s\n",
      "Wall time: 15.9 s\n"
     ]
    }
   ],
   "source": [
    "%%time\n",
    "\n",
    "# Prepare our training data\n",
    "pairs = skipgram_model(tokenized_corpus, vocab, vsize, word_to_idx, idx_to_word, window_size=2)\n",
    "onehot_pairs = [(onehot_encode(vsize, x), onehot_encode(vsize, y)) for x, y in pairs]"
   ]
  },
  {
   "cell_type": "code",
   "execution_count": 30,
   "metadata": {},
   "outputs": [
    {
     "name": "stdout",
     "output_type": "stream",
     "text": [
      "Batch size: 81\n"
     ]
    }
   ],
   "source": [
    "# Batches up our pairs of data\n",
    "bsize = len(onehot_pairs) // 2000\n",
    "print(\"Batch size: {}\".format(bsize))\n",
    "\n",
    "trainloader = DataLoader(onehot_pairs, batch_size=bsize, shuffle=True)"
   ]
  },
  {
   "cell_type": "code",
   "execution_count": 31,
   "metadata": {},
   "outputs": [
    {
     "name": "stdout",
     "output_type": "stream",
     "text": [
      "Epoch: 5 loss: 0.001\n",
      "Epoch: 10 loss: 0.001\n",
      "Epoch: 15 loss: 0.001\n",
      "Epoch: 20 loss: 0.001\n",
      "Epoch: 25 loss: 0.001\n",
      "Epoch: 30 loss: 0.001\n",
      "Epoch: 35 loss: 0.001\n",
      "Epoch: 40 loss: 0.001\n",
      "Epoch: 45 loss: 0.001\n",
      "Epoch: 50 loss: 0.001\n",
      "CPU times: user 1h 1min 11s, sys: 11min 21s, total: 1h 12min 33s\n",
      "Wall time: 5h 22min 12s\n"
     ]
    }
   ],
   "source": [
    "%%time\n",
    "\n",
    "# Training\n",
    "model = train_model_batches(trainloader, vsize, embedding_dim=25, epochs=50, learning_rate=1e-3, opt_alg=optim.Adam)\n",
    "\n",
    "# Evaluation\n",
    "\n",
    "# Take the encoder from the model out\n",
    "encoder = copy.deepcopy(model.w1)\n",
    "\n",
    "# Create encodings of the words to their respective vectors\n",
    "encodings = {w: encoder(onehot_encode(vsize, idx)) for w, idx in word_to_idx.items()}\n",
    "# Reshape those encodings to be of dimension (embedding_dim, -1)\n",
    "encodings = {w: e.reshape(1, -1) for w, e in encodings.items()}"
   ]
  },
  {
   "cell_type": "code",
   "execution_count": 32,
   "metadata": {},
   "outputs": [
    {
     "name": "stdout",
     "output_type": "stream",
     "text": [
      "=========================\n",
      "Similarity <queen> to <king - man + woman>\n",
      "tensor([0.3572], grad_fn=<DivBackward1>)\n",
      "('saw', tensor([0.8712], grad_fn=<DivBackward1>))\n",
      "=========================\n",
      "Similarity <paris> to <berlin - germany + france>\n",
      "tensor([-0.2552], grad_fn=<DivBackward1>)\n",
      "('23%', tensor([0.8983], grad_fn=<DivBackward1>))\n"
     ]
    }
   ],
   "source": [
    "print(\"=========================\")\n",
    "queen = encodings[\"queen\"]\n",
    "print(\"Similarity <queen> to <king - man + woman>\")\n",
    "print(cos(queen, encodings[\"king\"] - encodings[\"man\"] + encodings[\"woman\"]))\n",
    "print(argmax_cos(encodings[\"king\"] - encodings[\"man\"] + encodings[\"woman\"]))\n",
    "\n",
    "print(\"=========================\")\n",
    "paris = encodings[\"paris\"]\n",
    "print(\"Similarity <paris> to <berlin - germany + france>\")\n",
    "print(cos(paris, encodings[\"berlin\"] - encodings[\"germany\"] + encodings[\"france\"]))\n",
    "print(argmax_cos(encodings[\"berlin\"] - encodings[\"germany\"] + encodings[\"france\"]))"
   ]
  },
  {
   "cell_type": "code",
   "execution_count": 35,
   "metadata": {},
   "outputs": [
    {
     "name": "stdout",
     "output_type": "stream",
     "text": [
      "=========================\n",
      "Similarity <man> to <woman - girl + boy>\n",
      "tensor([0.6128], grad_fn=<DivBackward1>)\n",
      "('model', tensor([0.9505], grad_fn=<DivBackward1>))\n"
     ]
    }
   ],
   "source": [
    "print(\"=========================\")\n",
    "man = encodings[\"man\"]\n",
    "print(\"Similarity <man> to <woman - girl + boy>\")\n",
    "print(cos(man, encodings[\"woman\"] - encodings[\"she\"] + encodings[\"he\"]))\n",
    "print(argmax_cos(encodings[\"woman\"] - encodings[\"she\"] + encodings[\"he\"]))"
   ]
  },
  {
   "cell_type": "code",
   "execution_count": 36,
   "metadata": {},
   "outputs": [
    {
     "name": "stdout",
     "output_type": "stream",
     "text": [
      "Epoch: 5 loss: 0.001\n",
      "CPU times: user 8min 18s, sys: 1min 27s, total: 9min 45s\n",
      "Wall time: 9min 2s\n"
     ]
    }
   ],
   "source": [
    "%%time\n",
    "\n",
    "# Training\n",
    "model = train_model_batches(trainloader, vsize, embedding_dim=50, epochs=5, learning_rate=1e-3, opt_alg=optim.Adam)"
   ]
  },
  {
   "cell_type": "code",
   "execution_count": 37,
   "metadata": {},
   "outputs": [
    {
     "name": "stdout",
     "output_type": "stream",
     "text": [
      "=========================\n",
      "Similarity <queen> to <king - man + woman>\n",
      "tensor([-0.1401], grad_fn=<DivBackward1>)\n",
      "('king', tensor([0.6685], grad_fn=<DivBackward1>))\n",
      "=========================\n",
      "Similarity <paris> to <berlin - germany + france>\n",
      "tensor([0.3327], grad_fn=<DivBackward1>)\n",
      "('berlin', tensor([0.6183], grad_fn=<DivBackward1>))\n"
     ]
    }
   ],
   "source": [
    "# Evaluation\n",
    "\n",
    "# Take the encoder from the model out\n",
    "encoder = copy.deepcopy(model.w1)\n",
    "\n",
    "# Create encodings of the words to their respective vectors\n",
    "encodings = {w: encoder(onehot_encode(vsize, idx)) for w, idx in word_to_idx.items()}\n",
    "# Reshape those encodings to be of dimension (embedding_dim, -1)\n",
    "encodings = {w: e.reshape(1, -1) for w, e in encodings.items()}\n",
    "\n",
    "print(\"=========================\")\n",
    "queen = encodings[\"queen\"]\n",
    "print(\"Similarity <queen> to <king - man + woman>\")\n",
    "print(cos(queen, encodings[\"king\"] - encodings[\"man\"] + encodings[\"woman\"]))\n",
    "print(argmax_cos(encodings[\"king\"] - encodings[\"man\"] + encodings[\"woman\"]))\n",
    "\n",
    "print(\"=========================\")\n",
    "paris = encodings[\"paris\"]\n",
    "print(\"Similarity <paris> to <berlin - germany + france>\")\n",
    "print(cos(paris, encodings[\"berlin\"] - encodings[\"germany\"] + encodings[\"france\"]))\n",
    "print(argmax_cos(encodings[\"berlin\"] - encodings[\"germany\"] + encodings[\"france\"]))"
   ]
  },
  {
   "cell_type": "code",
   "execution_count": 39,
   "metadata": {},
   "outputs": [
    {
     "name": "stdout",
     "output_type": "stream",
     "text": [
      "=========================\n",
      "Similarity <man> to <woman - she + he>\n",
      "tensor([0.4101], grad_fn=<DivBackward1>)\n",
      "('woman', tensor([0.7969], grad_fn=<DivBackward1>))\n"
     ]
    }
   ],
   "source": [
    "print(\"=========================\")\n",
    "man = encodings[\"man\"]\n",
    "print(\"Similarity <man> to <woman - she + he>\")\n",
    "print(cos(man, encodings[\"woman\"] - encodings[\"she\"] + encodings[\"he\"]))\n",
    "print(argmax_cos(encodings[\"woman\"] - encodings[\"she\"] + encodings[\"he\"]))"
   ]
  },
  {
   "cell_type": "markdown",
   "metadata": {},
   "source": [
    "## Interpreting the Results\n",
    "\n",
    "__Why is this model so bad?__\n",
    "\n",
    "1. The corpus may not be big enough (we used only 2k lines, so that's definitely a possibility)\n",
    "2. The vocabulary size is enormous and there may not be enough examples of the same words being used in similar contexts for us to generate meaningful embeddings"
   ]
  },
  {
   "cell_type": "code",
   "execution_count": null,
   "metadata": {},
   "outputs": [],
   "source": []
  }
 ],
 "metadata": {
  "kernelspec": {
   "display_name": "Python 3",
   "language": "python",
   "name": "python3"
  },
  "language_info": {
   "codemirror_mode": {
    "name": "ipython",
    "version": 3
   },
   "file_extension": ".py",
   "mimetype": "text/x-python",
   "name": "python",
   "nbconvert_exporter": "python",
   "pygments_lexer": "ipython3",
   "version": "3.6.5"
  }
 },
 "nbformat": 4,
 "nbformat_minor": 2
}
